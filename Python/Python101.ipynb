{
 "metadata": {
  "language_info": {
   "codemirror_mode": {
    "name": "ipython",
    "version": 3
   },
   "file_extension": ".py",
   "mimetype": "text/x-python",
   "name": "python",
   "nbconvert_exporter": "python",
   "pygments_lexer": "ipython3",
   "version": "3.9.2"
  },
  "orig_nbformat": 2,
  "kernelspec": {
   "name": "python3",
   "display_name": "Python 3.9.2 64-bit",
   "metadata": {
    "interpreter": {
     "hash": "723c83f86631ee4bcc3ca6277bb8a6e62eab459a21f75f3b9e6bb063189cc64e"
    }
   }
  }
 },
 "nbformat": 4,
 "nbformat_minor": 2,
 "cells": [
  {
   "cell_type": "code",
   "execution_count": 39,
   "metadata": {},
   "outputs": [
    {
     "output_type": "stream",
     "name": "stdout",
     "text": [
      "6.28\n3.14\n12.56\n"
     ]
    }
   ],
   "source": [
    "PI = 3.14\n",
    "r = 1\n",
    "print(2 * PI * r)\n",
    "print(PI * r ** 2)\n",
    "r = 2\n",
    "print(2 * PI * r)"
   ]
  },
  {
   "cell_type": "code",
   "execution_count": 53,
   "metadata": {},
   "outputs": [],
   "source": [
    "def add(a, b):\n",
    "    '''\n",
    "    add(a, b)\n",
    "   \n",
    "    aとbを加算した結果を返す。\n",
    "   \n",
    "    Parameters\n",
    "    ----------\n",
    "    a : int\n",
    "        加算対象その1\n",
    "    b : int\n",
    "        加算対象その2\n",
    "   \n",
    "    Returns\n",
    "    ----------\n",
    "    int\n",
    "        aとbの加算結果\n",
    "    '''\n",
    "    return a + b"
   ]
  },
  {
   "cell_type": "code",
   "execution_count": 54,
   "metadata": {},
   "outputs": [],
   "source": [
    "def add(a, b):\n",
    "    '''\n",
    "    add(a, b)\n",
    "   \n",
    "    aとbを加算した結果を返す。\n",
    "   \n",
    "    Parameters\n",
    "    ----------\n",
    "    a : int\n",
    "        加算対象その1\n",
    "    b : int\n",
    "        加算対象その2\n",
    "   \n",
    "    Returns\n",
    "    ----------\n",
    "    int\n",
    "        aとbの加算結果\n",
    "    '''\n",
    "    return a + b"
   ]
  },
  {
   "cell_type": "code",
   "execution_count": 55,
   "metadata": {},
   "outputs": [
    {
     "output_type": "stream",
     "name": "stdout",
     "text": [
      "Help on function add in module __main__:\n\nadd(a, b)\n    add(a, b)\n    \n    aとbを加算した結果を返す。\n    \n    Parameters\n    ----------\n    a : int\n        加算対象その1\n    b : int\n        加算対象その2\n    \n    Returns\n    ----------\n    int\n        aとbの加算結果\n\n"
     ]
    }
   ],
   "source": [
    "help(add)"
   ]
  },
  {
   "cell_type": "code",
   "execution_count": 1,
   "metadata": {},
   "outputs": [
    {
     "output_type": "stream",
     "name": "stdout",
     "text": [
      "C:\\Users\\deepinsider\\Documents\\work\\data.txt\n"
     ]
    },
    {
     "output_type": "execute_result",
     "data": {
      "text/plain": [
       "'C:\\\\Users\\\\deepinsider\\\\Documents\\\\work\\\\data.txt'"
      ]
     },
     "metadata": {},
     "execution_count": 1
    }
   ],
   "source": [
    "raw_str = r'C:\\Users\\deepinsider\\Documents\\work\\data.txt'\n",
    "print(raw_str)\n",
    "raw_str"
   ]
  },
  {
   "cell_type": "code",
   "execution_count": 2,
   "metadata": {},
   "outputs": [
    {
     "output_type": "stream",
     "name": "stdout",
     "text": [
      "1 + 100 = 101\n"
     ]
    }
   ],
   "source": [
    "x = 1\n",
    "y = 100\n",
    "result = f'{x} + {y} = {x + y}'\n",
    "print(result)"
   ]
  },
  {
   "cell_type": "code",
   "execution_count": 4,
   "metadata": {},
   "outputs": [
    {
     "output_type": "stream",
     "name": "stdout",
     "text": [
      "200\n"
     ]
    }
   ],
   "source": [
    "user_input = input('input some number: ')\n",
    "int_value = int(user_input)\n",
    "result = int_value * 2\n",
    "print(result)"
   ]
  },
  {
   "cell_type": "code",
   "execution_count": 7,
   "metadata": {},
   "outputs": [
    {
     "output_type": "stream",
     "name": "stdout",
     "text": [
      "100 * 2 = 200\n"
     ]
    }
   ],
   "source": [
    "user_input = input('input some number: ')\n",
    "int_value = int(user_input)\n",
    "result = str(int_value) + ' * 2 = ' + str(int_value * 2)\n",
    "print(result)"
   ]
  },
  {
   "cell_type": "code",
   "execution_count": 8,
   "metadata": {},
   "outputs": [
    {
     "output_type": "stream",
     "name": "stdout",
     "text": [
      "11\n14\n"
     ]
    }
   ],
   "source": [
    "str_len = len('Hello World')\n",
    "print(str_len)\n",
    "msg = 'Good-bye World'\n",
    "str_len = len(msg)\n",
    "print(str_len)"
   ]
  },
  {
   "cell_type": "code",
   "execution_count": 17,
   "metadata": {},
   "outputs": [
    {
     "output_type": "stream",
     "name": "stdout",
     "text": [
      "Hlo\n"
     ]
    }
   ],
   "source": [
    "msg = 'Hello'\n",
    "print(msg[::2])"
   ]
  },
  {
   "cell_type": "code",
   "execution_count": 21,
   "metadata": {},
   "outputs": [
    {
     "output_type": "stream",
     "name": "stdout",
     "text": [
      "aaaaa\n"
     ]
    }
   ],
   "source": [
    "print('a' * 5)"
   ]
  },
  {
   "cell_type": "code",
   "execution_count": 25,
   "metadata": {},
   "outputs": [
    {
     "output_type": "stream",
     "name": "stdout",
     "text": [
      "東京都世田谷区桜上水は世田谷区にあります\n"
     ]
    }
   ],
   "source": [
    "address = '東京都世田谷区桜上水'\n",
    "word = '世田谷区'\n",
    "\n",
    "if (word in address):\n",
    "    print(address + 'は' + word + 'にあります')\n",
    "else:\n",
    "    print(address + 'は' + word + 'にはありません')"
   ]
  },
  {
   "cell_type": "code",
   "execution_count": 26,
   "metadata": {},
   "outputs": [
    {
     "output_type": "stream",
     "name": "stdout",
     "text": [
      "13\n21\n-1\n0\n7\n"
     ]
    },
    {
     "output_type": "error",
     "ename": "ValueError",
     "evalue": "substring not found",
     "traceback": [
      "\u001b[1;31m---------------------------------------------------------------------------\u001b[0m",
      "\u001b[1;31mValueError\u001b[0m                                Traceback (most recent call last)",
      "\u001b[1;32m<ipython-input-26-fea4d0ae3137>\u001b[0m in \u001b[0;36m<module>\u001b[1;34m\u001b[0m\n\u001b[0;32m      5\u001b[0m \u001b[0mprint\u001b[0m\u001b[1;33m(\u001b[0m\u001b[0msample_str\u001b[0m\u001b[1;33m.\u001b[0m\u001b[0mindex\u001b[0m\u001b[1;33m(\u001b[0m\u001b[1;34m'find'\u001b[0m\u001b[1;33m)\u001b[0m\u001b[1;33m)\u001b[0m\u001b[1;33m\u001b[0m\u001b[1;33m\u001b[0m\u001b[0m\n\u001b[0;32m      6\u001b[0m \u001b[0mprint\u001b[0m\u001b[1;33m(\u001b[0m\u001b[0msample_str\u001b[0m\u001b[1;33m.\u001b[0m\u001b[0mrindex\u001b[0m\u001b[1;33m(\u001b[0m\u001b[1;34m'find'\u001b[0m\u001b[1;33m)\u001b[0m\u001b[1;33m)\u001b[0m\u001b[1;33m\u001b[0m\u001b[1;33m\u001b[0m\u001b[0m\n\u001b[1;32m----> 7\u001b[1;33m \u001b[0mprint\u001b[0m\u001b[1;33m(\u001b[0m\u001b[0msample_str\u001b[0m\u001b[1;33m.\u001b[0m\u001b[0mindex\u001b[0m\u001b[1;33m(\u001b[0m\u001b[1;34m'foo'\u001b[0m\u001b[1;33m)\u001b[0m\u001b[1;33m)\u001b[0m\u001b[1;33m\u001b[0m\u001b[1;33m\u001b[0m\u001b[0m\n\u001b[0m",
      "\u001b[1;31mValueError\u001b[0m: substring not found"
     ]
    }
   ],
   "source": [
    "sample_str = 'find, rfind, index, rindex'\n",
    "print(sample_str.find('index'))\n",
    "print(sample_str.rfind('index'))\n",
    "print(sample_str.find('foo'))\n",
    "print(sample_str.index('find'))\n",
    "print(sample_str.rindex('find'))\n",
    "print(sample_str.index('foo'))"
   ]
  },
  {
   "cell_type": "code",
   "execution_count": 32,
   "metadata": {},
   "outputs": [
    {
     "output_type": "stream",
     "name": "stdout",
     "text": [
      "['abc', 'def', 'ghi']\nabcdefghi\n"
     ]
    }
   ],
   "source": [
    "alpha_list = 'abc def ghi'.split()\n",
    "print(alpha_list)\n",
    "alpha_str = ''.join(alpha_list)\n",
    "print(alpha_str)"
   ]
  },
  {
   "cell_type": "code",
   "execution_count": 34,
   "metadata": {},
   "outputs": [
    {
     "output_type": "stream",
     "name": "stdout",
     "text": [
      "begin:sample:end\nbegin:sample  :end\nbegin:   sample:end\n   sample  \n"
     ]
    }
   ],
   "source": [
    "sample_str = '   sample  '\n",
    "print('begin:' + sample_str.strip() + ':end')\n",
    "print('begin:' + sample_str.lstrip() + ':end')\n",
    "print('begin:' + sample_str.rstrip() + ':end')\n",
    "print(sample_str)"
   ]
  },
  {
   "cell_type": "code",
   "execution_count": 35,
   "metadata": {},
   "outputs": [
    {
     "output_type": "stream",
     "name": "stdout",
     "text": [
      "++**sample**++\nampl\n"
     ]
    }
   ],
   "source": [
    "sample_str = '**++**sample**++**'\n",
    "print(sample_str.strip('*'))\n",
    "print(sample_str.strip('+*se'))"
   ]
  },
  {
   "cell_type": "code",
   "execution_count": 43,
   "metadata": {},
   "outputs": [
    {
     "output_type": "stream",
     "name": "stdout",
     "text": [
      "Python++++++\n***Python***\n      Python\n"
     ]
    }
   ],
   "source": [
    "sample_str = 'Python'\n",
    "print(sample_str.ljust(12, '+'))\n",
    "print(sample_str.center(12, '*'))\n",
    "print(sample_str.rjust(12))"
   ]
  },
  {
   "cell_type": "code",
   "execution_count": 49,
   "metadata": {},
   "outputs": [
    {
     "output_type": "stream",
     "name": "stdout",
     "text": [
      "x + y = 101\n"
     ]
    }
   ],
   "source": [
    "x = 1\n",
    "y = 100\n",
    "print(f'x + y = {x + y}')\n",
    "# result = 'x + y = {}'.format(x + y)\n",
    "# print(result)"
   ]
  },
  {
   "cell_type": "code",
   "execution_count": 52,
   "metadata": {},
   "outputs": [
    {
     "output_type": "stream",
     "name": "stdout",
     "text": [
      "100 + 1 = 101\n"
     ]
    }
   ],
   "source": [
    "x = 1\n",
    "y = 100\n",
    "result = '{2} + {1} = {0}'.format(x + y, x, y)\n",
    "print(result)"
   ]
  },
  {
   "cell_type": "code",
   "execution_count": 53,
   "metadata": {},
   "outputs": [
    {
     "output_type": "stream",
     "name": "stdout",
     "text": [
      "私の名前は中野です\n"
     ]
    }
   ],
   "source": [
    "svo = {'subject': '私の名前は', 'verb': 'です', 'obj': '中野'}\n",
    "print(svo['subject'] + svo['obj'] + svo['verb'])"
   ]
  },
  {
   "cell_type": "code",
   "execution_count": 87,
   "metadata": {},
   "outputs": [
    {
     "output_type": "stream",
     "name": "stdout",
     "text": [
      "odd\n"
     ]
    }
   ],
   "source": [
    "number = int(input())\n",
    "if number % 2 == 0:\n",
    "    print('even')\n",
    "else:\n",
    "    print('odd')"
   ]
  },
  {
   "cell_type": "code",
   "execution_count": 100,
   "metadata": {},
   "outputs": [
    {
     "output_type": "stream",
     "name": "stdout",
     "text": [
      "0\n1\n2\n3\n4\n5\n6\n7\n8\n9\n"
     ]
    }
   ],
   "source": [
    "for number in range(10):\n",
    "    print(number)"
   ]
  },
  {
   "cell_type": "code",
   "execution_count": 103,
   "metadata": {},
   "outputs": [
    {
     "output_type": "stream",
     "name": "stdout",
     "text": [
      "H\nl\no\nP\nt\no\n"
     ]
    }
   ],
   "source": [
    "message = 'Hello Python'\n",
    "for i in message[::2]:\n",
    "    print(i)"
   ]
  },
  {
   "cell_type": "code",
   "execution_count": 104,
   "metadata": {},
   "outputs": [
    {
     "output_type": "stream",
     "name": "stdout",
     "text": [
      "一色\nかわさき\n遠藤\n"
     ]
    }
   ],
   "source": [
    "names = ['一色', 'かわさき', '遠藤']\n",
    "\n",
    "for name in names:\n",
    "    print(name)"
   ]
  },
  {
   "cell_type": "code",
   "execution_count": 114,
   "metadata": {},
   "outputs": [
    {
     "output_type": "stream",
     "name": "stdout",
     "text": [
      "繰り返し処理を継続します\n発見: かわさき\n発見: かわさきしんじ\n繰り返し処理を継続します\n"
     ]
    }
   ],
   "source": [
    "names = ['一色', 'かわさき', 'かわさきしんじ', '遠藤']\n",
    "target = 'かわさき'\n",
    "\n",
    "for name in names:\n",
    "    if target in name:\n",
    "        found = True\n",
    "        print(f'発見: {name}')\n",
    "        continue\n",
    "    print('繰り返し処理を継続します')\n",
    "\n",
    "if not found:\n",
    "    print('見つかりませんでした')"
   ]
  },
  {
   "cell_type": "code",
   "execution_count": 7,
   "metadata": {},
   "outputs": [
    {
     "output_type": "stream",
     "name": "stdout",
     "text": [
      "too large!\n",
      "too small!\n",
      "too large!\n",
      "too large!\n",
      "Congratulation! right answer!!\n"
     ]
    }
   ],
   "source": [
    "import random   # 乱数を使うための準備をする\n",
    "answer = random.randint(1,100)  # 乱数を使って、「当たりの数値」を前もって決めておく\n",
    "\n",
    "number = int(input('100までの数値を入力してください: '))    # ユーザーから最初の入力を受け付ける\n",
    "\n",
    "while answer != number: # ユーザーが「当たりの数値」を入力するまで以下を行う:\n",
    "#     入力された値が「当たりの数値」より大きいか小さいかを\n",
    "#     表示して、もう一度ユーザーから入力を受け付ける\n",
    "    if answer < number:\n",
    "        print('too large!')\n",
    "    else:\n",
    "        print('too small!')\n",
    "    number = int(input('100までの数値を入力してください: '))\n",
    "\n",
    "# 「繰り返し処理が終了」＝「当たりの数値が入力された」となるので祝福する\n",
    "print('Congratulation! right answer!!')"
   ]
  },
  {
   "cell_type": "code",
   "execution_count": 8,
   "metadata": {},
   "outputs": [
    {
     "output_type": "stream",
     "name": "stdout",
     "text": [
      "small\n",
      "large\n",
      "large\n",
      "Congratulation! right answer!!\n"
     ]
    }
   ],
   "source": [
    "input()\n",
    "a=[int(s) for s in input().split(' ')]\n",
    "c=0\n",
    "while(all([i%2==0 for i in a])):\n",
    "  c+=1\n",
    "  a=[i//2 for i in a]\n",
    "print(c)"
   ]
  },
  {
   "cell_type": "code",
   "execution_count": null,
   "metadata": {},
   "outputs": [],
   "source": [
    "input()\n",
    "a=[int(s) for s in input().split(' ')]\n",
    "c=0\n",
    "while(all([i%2==0 for i in a])):\n",
    "  c+=1\n",
    "  a=[i//2 for i in a]\n",
    "print(c)"
   ]
  },
  {
   "cell_type": "code",
   "execution_count": null,
   "metadata": {},
   "outputs": [],
   "source": []
  }
 ]
}