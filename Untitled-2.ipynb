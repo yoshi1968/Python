{
 "metadata": {
  "language_info": {
   "codemirror_mode": {
    "name": "ipython",
    "version": 3
   },
   "file_extension": ".py",
   "mimetype": "text/x-python",
   "name": "python",
   "nbconvert_exporter": "python",
   "pygments_lexer": "ipython3",
   "version": "3.9.2"
  },
  "orig_nbformat": 2,
  "kernelspec": {
   "name": "python3",
   "display_name": "Python 3.9.2 64-bit",
   "metadata": {
    "interpreter": {
     "hash": "723c83f86631ee4bcc3ca6277bb8a6e62eab459a21f75f3b9e6bb063189cc64e"
    }
   }
  }
 },
 "nbformat": 4,
 "nbformat_minor": 2,
 "cells": [
  {
   "cell_type": "code",
   "execution_count": 14,
   "metadata": {},
   "outputs": [
    {
     "output_type": "stream",
     "name": "stdout",
     "text": [
      "Hello world\n"
     ]
    }
   ],
   "source": [
    "print('Hello world')"
   ]
  },
  {
   "cell_type": "code",
   "execution_count": 15,
   "metadata": {},
   "outputs": [
    {
     "output_type": "stream",
     "name": "stdout",
     "text": [
      "Hello world !\n"
     ]
    }
   ],
   "source": [
    "name = input('input your name: ')\n",
    "message = 'Hello ' + name + ' !'\n",
    "print(message)"
   ]
  },
  {
   "cell_type": "code",
   "execution_count": 16,
   "metadata": {},
   "outputs": [
    {
     "output_type": "stream",
     "name": "stdout",
     "text": [
      "Hello Yoshiro !\n"
     ]
    }
   ],
   "source": [
    "def helloworld():\n",
    "    name = input('input your name: ')\n",
    "    message = 'Hello ' + name + ' !'\n",
    "    print(message)\n",
    "\n",
    "helloworld()"
   ]
  },
  {
   "cell_type": "code",
   "execution_count": 17,
   "metadata": {},
   "outputs": [
    {
     "output_type": "stream",
     "name": "stdout",
     "text": [
      "Hello Miwa !\n"
     ]
    }
   ],
   "source": [
    "def helloworld():\n",
    "    name = input('input your name: ')\n",
    "    message = 'Hello ' + name + ' !'\n",
    "    print(message)\n",
    "\n",
    "helloworld()"
   ]
  }
 ]
}